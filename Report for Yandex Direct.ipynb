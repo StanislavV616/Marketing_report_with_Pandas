{
 "cells": [
  {
   "cell_type": "markdown",
   "metadata": {},
   "source": [
    "# Yandex"
   ]
  },
  {
   "cell_type": "code",
   "execution_count": 18,
   "metadata": {},
   "outputs": [],
   "source": [
    "import pandas as pd\n",
    "import numpy as np\n",
    "import warnings\n",
    "warnings.filterwarnings('ignore')"
   ]
  },
  {
   "cell_type": "code",
   "execution_count": 23,
   "metadata": {},
   "outputs": [],
   "source": [
    "# Открываем файл с помощью pd.read_excel\n",
    "df = pd.read_excel(r'C:\\Users\\79299\\Desktop\\DS\\Report\\yandex_direct.xlsx')\n",
    "\n",
    "df_cub = pd.read_excel(r'C:\\Users\\79299\\Desktop\\DS\\Report\\basedata.xlsx') # Открываем файл из базы"
   ]
  },
  {
   "cell_type": "code",
   "execution_count": 24,
   "metadata": {},
   "outputs": [],
   "source": [
    "# Переименовываем столбцы для единообразия\n",
    "df_cub = df_cub.rename(columns={'Utm_Campaign':'Campaign',\n",
    "                   'Utm_Term':'Keyword',\n",
    "                    'Сумма пополнений впервые пополненных ЛК (за месяц)':'НД',\n",
    "                    'Впервые пополненные ЛК':'ПЛК',\n",
    "                    'Пополнения':'Все деньги',\n",
    "                    'Клиенты':'ЛК'}).drop(['Utm_Source'], axis=1)\n",
    "# Отбираем только те столбцы которые нам понадобятся. Можно добавлять любые\n",
    "columns_list = ['Кампания',\n",
    "                   'Условие показа',\n",
    "                   'Показы',\n",
    "                   'Клики',\n",
    "                   'CTR (%)',\n",
    "                   'Расход (долл.)',\n",
    "                   'Ср. цена клика (долл.)',\n",
    "                   'Ср. позиция показов',\n",
    "                   'Ср. объём трафика',\n",
    "                   'Конверсия (%)',\n",
    "                   'Цена цели (долл.)',\n",
    "                   'Конверсии']\n",
    "# При помощи loc оставляем [все строчки(:);наш список столбцов(columns_list)]\n",
    "df = df.loc[:,columns_list]\n",
    "# Переименовываем столбцы для единообразия\n",
    "df.rename(columns={'Кампания':'Campaign',\n",
    "                   'Условие показа':'Keyword',\n",
    "                   'Показы':'Impressions',\n",
    "                   'Клики':'Clicks',\n",
    "                   'CTR (%)':'CTR',\n",
    "                   'Расход (долл.)':'Cost',\n",
    "                   'Ср. цена клика (долл.)':'CPC',\n",
    "                   'Ср. позиция показов':'Avg_position',\n",
    "                   'Ср. объём трафика':'Avg_traffic_vol',\n",
    "                   'Конверсия (%)':'Convertion_rate',\n",
    "                   'Цена цели (долл.)':'CPA',\n",
    "                   'Конверсии':'Convertions'}, inplace=True)\n",
    "\n",
    "#В квадратные скобки через запятую добавляем столбцы которые нужно заменить, \n",
    "# если их больше одного. #скобки должны быть двойными\n",
    "df_obj = df[['CPC', 'Avg_position', 'Convertion_rate', 'CPA', 'Convertions', 'Avg_traffic_vol']]. \\\n",
    "    select_dtypes(include='object')\n",
    "\n",
    "# Исправляем тип столбцов в цикле на тип 'float64'\n",
    "for i in df_obj.columns:\n",
    "    df[i] = df_obj[i].replace({'-':'0'}, regex=True).astype('float64')\n",
    "    \n",
    "# Блок кода для приведения к единообразию написания названий кампаний в df (Выгрузка Яндекса),\n",
    "# и значений utm_Campaign в df_cub\n",
    "\n",
    "df['Campaign'] = df['Campaign'].replace({'\\|\\|Dec2016':''}, regex=True) #удаляем ненужные хвосты в названиях\n",
    "df['Campaign'] = df['Campaign'].str.replace('(([а-яА-Я_\\|0123456789]+_?)+)\\|?\\|', '') #оставляем правую часть названий\n",
    "df['Campaign'] = df['Campaign'].str.replace('(_new)$', '') #еще раз убираем не нужный мусор\n",
    "\n",
    "# Заполнение пропусков в столбце Keyword для кампаний ремаркетинга\n",
    "a = df[df['Campaign'].str.startswith('rmkt')]['Keyword']\n",
    "df.loc[a.index,['Keyword']] = '--'\n",
    "\n",
    "# Удаление лишнего в столбцах Keyword для остальных кампаний\n",
    "df_cub['Keyword'] = df_cub['Keyword'].replace({\"---\":''}, regex=True). \\\n",
    "    replace({'(%.+)':''}, regex=True)\n",
    "df['Keyword'] = df['Keyword'].replace({\"'---\":''}, regex=True). \\\n",
    "    replace({'(-[a-zA-Zа-яА-Я!\\+\"\\.0123456789]+\\s?)':''}, regex=True). \\\n",
    "    replace({'!|\\+|\\[|\\]|\"':''}, regex=True)\n",
    "\n",
    "# Создание нового столбца для взвешенного CTR\n",
    "df['wCTR'] = np.round((df['CTR']*df['Avg_traffic_vol'])/100, 2)\n",
    "\n",
    "# В обоих файлах создаем столбцы с уникальным ключем Кампания+ключ\n",
    "df['Campaign+Key'] = pd.Series(df['Campaign'] + '+++' + df['Keyword']).str.lower().str.strip(' ')\n",
    "df_cub['Campaign+Key'] = pd.Series(df_cub['Campaign'] + '+++' + df_cub['Keyword']).str.lower().str.strip(' ')\n",
    "\n",
    "# Группируем по ключю файл из Яндекс Директа\n",
    "df = df.groupby('Campaign+Key', as_index=False). \\\n",
    "    aggregate({'Impressions':np.sum, \n",
    "               'Clicks': np.sum,\n",
    "               'wCTR': np.mean,\n",
    "               'Cost': np.sum})\n",
    "\n",
    "# Группируем по ключю файл из базы данных\n",
    "df_cub = df_cub.groupby('Campaign+Key', as_index=False).aggregate({'ЛК':np.sum \\\n",
    "                                                                   , 'ПЛК':np.sum \\\n",
    "                                                                   , 'НД': np.sum \\\n",
    "                                                                   , 'Все деньги':np.sum \\\n",
    "                                                                   , 'ПЛК':np.sum})\n",
    "\n",
    "#В обоих файлах устанавливаем наш кастомный ключ как индекс\n",
    "df = df.set_index('Campaign+Key')\n",
    "df_cub = df_cub.set_index('Campaign+Key')\n",
    "\n",
    "df_f = df.join(df_cub, how='outer', on=df.index) # Объединяем таблицы\n",
    "df_f = df_f.reset_index().rename(columns={'key_0':'Campaign_Key'}) # Удаляем индекс\n",
    "df_f = df_f.fillna(0) # Заполняем пропуски нулями\n",
    "\n",
    "# Разбиваем кастомный ключ обратно, на Кампанию и Ключ\n",
    "df_f['Campaign'] = df_f['Campaign_Key'].apply(lambda x: x[0:x.find('+')])\n",
    "df_f['Key'] = df_f['Campaign_Key'].apply(lambda x: x[x.find('+')+3:])\n",
    "\n",
    "# Удаляем не нужное\n",
    "df_f = df_f.reset_index().drop('index', axis=1)\n",
    "df_f = df_f.drop('Campaign_Key', axis=1)"
   ]
  },
  {
   "cell_type": "code",
   "execution_count": 16,
   "metadata": {},
   "outputs": [],
   "source": [
    "df_f.to_excel(r'C:\\Users\\79299\\Desktop\\DS\\Report\\report_yan_new.xlsx') # Сохраняем готовый отчет"
   ]
  },
  {
   "cell_type": "code",
   "execution_count": null,
   "metadata": {},
   "outputs": [],
   "source": []
  }
 ],
 "metadata": {
  "kernelspec": {
   "display_name": "Python 3",
   "language": "python",
   "name": "python3"
  },
  "language_info": {
   "codemirror_mode": {
    "name": "ipython",
    "version": 3
   },
   "file_extension": ".py",
   "mimetype": "text/x-python",
   "name": "python",
   "nbconvert_exporter": "python",
   "pygments_lexer": "ipython3",
   "version": "3.8.3"
  }
 },
 "nbformat": 4,
 "nbformat_minor": 4
}
